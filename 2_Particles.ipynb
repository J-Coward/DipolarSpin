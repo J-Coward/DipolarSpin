{
 "cells": [
  {
   "cell_type": "code",
   "execution_count": 107,
   "id": "d3a46c83-976d-4491-bfac-789450c6f45e",
   "metadata": {},
   "outputs": [],
   "source": [
    "from quspin.operators import hamiltonian # Hamiltonians and operators\n",
    "from quspin.basis import spin_basis_1d # Hilbert space spin basis\n",
    "from quspin.tools import evolution\n",
    "import numpy as np\n",
    "import matplotlib.pyplot as plt\n",
    "import math"
   ]
  },
  {
   "cell_type": "code",
   "execution_count": 109,
   "id": "ffbaef6d-81b6-4fb0-9b1e-5fa92a1ac54f",
   "metadata": {},
   "outputs": [
    {
     "name": "stdout",
     "output_type": "stream",
     "text": [
      "4.6563597938997816e+16\n",
      "Hermiticity check passed!\n",
      "Symmetry checks passed!\n",
      "[-1.41157547e-14  0.00000000e+00  0.00000000e+00  1.41157547e-14]\n",
      "[[ 0.          1.          0.          0.        ]\n",
      " [ 0.70710678  0.          0.          0.70710678]\n",
      " [-0.70710678  0.          0.          0.70710678]\n",
      " [ 0.          0.          1.          0.        ]]\n"
     ]
    }
   ],
   "source": [
    "#define rabi frequency, planks constant and coupling\n",
    "rabi = 0.780\n",
    "h = 6063e-34\n",
    "permittivity = 8.85e-12\n",
    "\n",
    "r = 2.78e-6 #seperation of particles\n",
    "theta = 0.0 #angle of system with quantisation axis\n",
    "ans = (1-(3*(np.cos(theta)**2)))/(r**3) #anisotropic term\n",
    "mJ = 1.225/np.sqrt(3.0) #(dipole) matrix element (value extracted from 0 electric field case)\n",
    "J = -(mJ**2)*ans #*(1/h)*(1/(4*math.pi*permittivity))\n",
    "print(J)\n",
    "\n",
    "#construct 2 molecule hamiltonian\n",
    "basis = spin_basis_1d(2, pauli=False)\n",
    "H_mol = [[0.5*rabi*h, 0], [0.5*rabi*h, 1]]\n",
    "H_int = [[0.5*h*J, 0, 1]]\n",
    "static = [['+', H_mol], ['-', H_mol], ['+-', H_int], ['-+', H_int]]\n",
    "dynamic = []\n",
    "H = hamiltonian(static, dynamic, basis=basis, dtype=np.float64)\n",
    "\n",
    "eigval, eigvec = H.eigh()\n",
    "print(eigval)\n",
    "print(eigvec)"
   ]
  },
  {
   "cell_type": "code",
   "execution_count": 111,
   "id": "640e0d32-f3e2-450a-b56b-d69c83cfb748",
   "metadata": {},
   "outputs": [
    {
     "name": "stdout",
     "output_type": "stream",
     "text": [
      "state is evolved state at time [0]\n",
      "[0.+0.j 1.+0.j 1.+0.j 0.+0.j]\n",
      "state is evolved state at time [1]\n",
      "[0.+0.00000000e+00j 1.-1.56841719e-14j 1.-1.56841719e-14j\n",
      " 0.+0.00000000e+00j]\n",
      "state is evolved state at time [2]\n",
      "[0.+0.00000000e+00j 1.-3.13683438e-14j 1.-3.13683438e-14j\n",
      " 0.+0.00000000e+00j]\n",
      "state is evolved state at time [3]\n",
      "[0.+0.00000000e+00j 1.-4.70525157e-14j 1.-4.70525157e-14j\n",
      " 0.+0.00000000e+00j]\n",
      "state is evolved state at time [4]\n",
      "[0.+0.00000000e+00j 1.-6.27366876e-14j 1.-6.27366876e-14j\n",
      " 0.+0.00000000e+00j]\n",
      "state is evolved state at time [5]\n",
      "[0.+0.00000000e+00j 1.-7.84208595e-14j 1.-7.84208595e-14j\n",
      " 0.+0.00000000e+00j]\n",
      "state is evolved state at time [6]\n",
      "[0.+0.00000000e+00j 1.-9.41050314e-14j 1.-9.41050314e-14j\n",
      " 0.+0.00000000e+00j]\n",
      "state is evolved state at time [7]\n",
      "[0.+0.00000000e+00j 1.-1.09789203e-13j 1.-1.09789203e-13j\n",
      " 0.+0.00000000e+00j]\n",
      "state is evolved state at time [8]\n",
      "[0.+0.00000000e+00j 1.-1.25473375e-13j 1.-1.25473375e-13j\n",
      " 0.+0.00000000e+00j]\n",
      "state is evolved state at time [9]\n",
      "[0.+0.00000000e+00j 1.-1.41157547e-13j 1.-1.41157547e-13j\n",
      " 0.+0.00000000e+00j]\n"
     ]
    }
   ],
   "source": [
    "#try time evolution of some intital state\n",
    "\n",
    "initial = [0.0, 1.0, 1.0, 0.0]\n",
    "times = np.linspace(0.0, 10.0, 10) #times at whcih the state is checked\n",
    "evolver = H.evolve(initial, 0, times, iterate=True) #generator for states\n",
    "for i, state in enumerate(evolver):\n",
    "    print(\"state is evolved state at time [%i]\" % (i))\n",
    "    print(state)"
   ]
  },
  {
   "cell_type": "code",
   "execution_count": 113,
   "id": "c2b4efaf-4aa5-412c-b98e-289e989a9578",
   "metadata": {},
   "outputs": [
    {
     "name": "stdout",
     "output_type": "stream",
     "text": [
      "Hermiticity check passed!\n",
      "Symmetry checks passed!\n",
      "<class 'numpy.ndarray'>\n",
      "<class 'generator'>\n",
      "psi1_n is now the evolved state at time[0]\n",
      "[ 0.13687728+0.j -0.4860903 +0.j  0.86312272+0.j]\n",
      "psi1_n is now the evolved state at time[1]\n",
      "[ 0.0170657 +0.13580925j -0.06060516-0.48229741j  0.10761312+0.85638791j]\n",
      "psi1_n is now the evolved state at time[2]\n",
      "[-0.13262182+0.03386507j  0.47097794-0.12026454j -0.83628857+0.21354686j]\n",
      "psi1_n is now the evolved state at time[3]\n",
      "[-0.05013596-0.12736473j  0.17804711+0.45230853j -0.31614805-0.80313837j]\n",
      "psi1_n is now the evolved state at time[4]\n",
      "[ 0.12012003-0.06562444j -0.42658054+0.23305112j  0.75745464-0.41381554j]\n",
      "psi1_n is now the evolved state at time[5]\n",
      "[ 0.08008881+0.11100078j -0.28441822-0.39419546j  0.50502515+0.69995031j]\n",
      "psi1_n is now the evolved state at time[6]\n",
      "[-0.10014928+0.09330333j  0.35565868-0.33134677j -0.63152276+0.58835349j]\n",
      "psi1_n is now the evolved state at time[7]\n",
      "[-0.10506179-0.08773488j  0.37310442+0.31157161j -0.66250017-0.55323987j]\n",
      "psi1_n is now the evolved state at time[8]\n",
      "[ 0.07395132-0.11518069j -0.26262225+0.40903953j  0.46632329-0.72630807j]\n",
      "psi1_n is now the evolved state at time[9]\n",
      "[ 0.12350212+0.0590137j  -0.43859129-0.20957449j  0.77878144+0.37212941j]\n"
     ]
    }
   ],
   "source": [
    "from quspin.basis import spin_basis_1d  # Hilbert space spin basis\n",
    "from quspin.tools.measurements import ED_state_vs_time\n",
    "import numpy as np  # generic math functions\n",
    "\n",
    "#\n",
    "L = 2  # system size\n",
    "# coupling strenghts\n",
    "h = 0.8945  # x-field strength\n",
    "g = 0.945  # z-field strength\n",
    "# create site-coupling lists\n",
    "x_field = [[h, i] for i in range(L)]\n",
    "z_field = [[g, i] for i in range(L)]\n",
    "# create static and dynamic lists\n",
    "static_1 = [[\"x\", x_field], [\"z\", z_field]]\n",
    "dynamic = []\n",
    "# create spin-1/2 basis\n",
    "basis1 = spin_basis_1d(L, kblock=0, pblock=1)\n",
    "# set up Hamiltonian\n",
    "H1 = hamiltonian(static_1, dynamic, basis=basis1, dtype=np.float64)\n",
    "# compute eigensystem of H1\n",
    "E1, V1 = H1.eigh()\n",
    "psi1 = V1[0]  # pick any state as initial state\n",
    "# time-evolve state by decomposing it in an eigensystem (E1,V1)\n",
    "times = np.linspace(0.0, 5.0, 10)\n",
    "psi1_time = ED_state_vs_time(psi1, E1, V1, times, iterate=False)\n",
    "print(type(psi1_time))\n",
    "# same as above but using a generator\n",
    "psi1_t = ED_state_vs_time(psi1, E1, V1, times, iterate=True)\n",
    "print(type(psi1_t))\n",
    "for i, psi1_n in enumerate(psi1_t):\n",
    "    print(\"psi1_n is now the evolved state at time[%i]\" % (i))\n",
    "    print(psi1_n)"
   ]
  },
  {
   "cell_type": "code",
   "execution_count": 117,
   "id": "a9e46e55-374d-4d85-b511-ad43e0316d52",
   "metadata": {},
   "outputs": [
    {
     "name": "stdout",
     "output_type": "stream",
     "text": [
      "Hermiticity check passed!\n",
      "Symmetry checks passed!\n",
      "[-268.35 -178.9  -178.9   -89.45]\n",
      "[[0. 1. 0. 0.]\n",
      " [1. 0. 0. 0.]\n",
      " [0. 0. 0. 1.]\n",
      " [0. 0. 1. 0.]]\n"
     ]
    }
   ],
   "source": [
    "#add microwave coupling (same detuning for both molecules)\n",
    "\n",
    "detuning = 200\n",
    "\n",
    "H_couple1 = [[-h*detuning*0.5, 0], [-h*detuning*0.5, 1]]\n",
    "H_couple2 = [[-h*detuning*0.5, 0],[h*detuning*0.5, 1]]\n",
    "\n",
    "static = [['+', H_mol], ['-', H_mol], ['+-', H_int], ['-+', H_int], ['I', H_couple1], ['z', H_couple2]] #same as before apart form final two terms\n",
    "dynamic = []\n",
    "H_full = hamiltonian(static, dynamic, basis=basis, dtype=np.float64)\n",
    "\n",
    "#find eigenvalues/eigenvectors\n",
    "eigval, eigvec = H_full.eigh()\n",
    "print(eigval)\n",
    "print(eigvec)"
   ]
  },
  {
   "cell_type": "code",
   "execution_count": 119,
   "id": "7e6d7ac6-3c09-41a3-b53c-a4d7f189da1f",
   "metadata": {},
   "outputs": [
    {
     "name": "stdout",
     "output_type": "stream",
     "text": [
      "state is evolved state at time [0]\n",
      "[1.+0.j 0.+0.j 0.+0.j 0.+0.j]\n",
      "state is evolved state at time [1]\n",
      "[-0.65437499-0.75617018j  0.        +0.j          0.        +0.j\n",
      "  0.        +0.j        ]\n",
      "state is evolved state at time [2]\n",
      "[-0.14358672+0.98963771j  0.        +0.j          0.        +0.j\n",
      "  0.        +0.j        ]\n",
      "state is evolved state at time [3]\n",
      "[0.84229409-0.53901818j 0.        +0.j         0.        +0.j\n",
      " 0.        +0.j        ]\n",
      "state is evolved state at time [4]\n",
      "[-0.95876566-0.28419766j  0.        +0.j          0.        +0.j\n",
      "  0.        +0.j        ]\n",
      "state is evolved state at time [5]\n",
      "[0.41249048+0.91096185j 0.        +0.j         0.        +0.j\n",
      " 0.        +0.j        ]\n",
      "state is evolved state at time [6]\n",
      "[0.41891873-0.90802365j 0.        +0.j         0.        +0.j\n",
      " 0.        +0.j        ]\n",
      "state is evolved state at time [7]\n",
      "[-0.96075035+0.27741411j  0.        +0.j          0.        +0.j\n",
      "  0.        +0.j        ]\n",
      "state is evolved state at time [8]\n",
      "[0.83846328+0.54495791j 0.        +0.j         0.        +0.j\n",
      " 0.        +0.j        ]\n",
      "state is evolved state at time [9]\n",
      "[-0.13658848-0.99062776j  0.        +0.j          0.        +0.j\n",
      "  0.        +0.j        ]\n"
     ]
    }
   ],
   "source": [
    "#timme evolution of Hamiltonian with microwave coupling\n",
    "initial = [1.0, 0.0, 0.0, 0.0]\n",
    "times = np.linspace(0.0, 10.0, 10) #times at whcih the state is checked\n",
    "evolver = H_full.evolve(initial, 0, times, iterate=True) #generator for states\n",
    "for i, state in enumerate(evolver):\n",
    "    print(\"state is evolved state at time [%i]\" % (i))\n",
    "    print(state)"
   ]
  },
  {
   "cell_type": "code",
   "execution_count": 103,
   "id": "ca92578a-7559-4695-bcc2-3544f6306e5a",
   "metadata": {},
   "outputs": [
    {
     "name": "stdout",
     "output_type": "stream",
     "text": [
      "Hermiticity check passed!\n",
      "Symmetry checks passed!\n",
      "Hermiticity check passed!\n",
      "Symmetry checks passed!\n",
      "Hermiticity check passed!\n",
      "Symmetry checks passed!\n",
      "Hermiticity check passed!\n",
      "Symmetry checks passed!\n",
      "Hermiticity check passed!\n",
      "Symmetry checks passed!\n",
      "Hermiticity check passed!\n",
      "Symmetry checks passed!\n",
      "Hermiticity check passed!\n",
      "Symmetry checks passed!\n",
      "Hermiticity check passed!\n",
      "Symmetry checks passed!\n",
      "Hermiticity check passed!\n",
      "Symmetry checks passed!\n",
      "Hermiticity check passed!\n",
      "Symmetry checks passed!\n",
      "Hermiticity check passed!\n",
      "Symmetry checks passed!\n",
      "Hermiticity check passed!\n",
      "Symmetry checks passed!\n",
      "Hermiticity check passed!\n",
      "Symmetry checks passed!\n",
      "Hermiticity check passed!\n",
      "Symmetry checks passed!\n",
      "Hermiticity check passed!\n",
      "Symmetry checks passed!\n"
     ]
    }
   ],
   "source": [
    "#detuning v eigenstate graph\n",
    "detuning = 0.0\n",
    "detun = []\n",
    "pop = []\n",
    "\n",
    "for i in range(15):\n",
    "    detuning = detuning + (i*5e-16)\n",
    "    detun = detun + [detuning]\n",
    "\n",
    "    H_couple1 = [[-h*detuning*0.5, 0], [-h*detuning*0.5, 1]]\n",
    "    H_couple2 = [[-h*detuning*0.5, 0],[h*detuning*0.5, 1]]\n",
    "\n",
    "    itr_static = [['+', H_mol], ['-', H_mol], ['+-', H_int], ['-+', H_int], ['I', H_couple1], ['z', H_couple2]] #same as before apart form final two terms\n",
    "    itr_dynamic = []\n",
    "    H_full_itr = hamiltonian(itr_static, itr_dynamic, basis=basis, dtype=np.float64)\n",
    "    \n",
    "    itr_eigval, itr_eigvec = H_full_itr.eigh()\n",
    "    pop = pop + [(itr_eigvec[1][0])**2]"
   ]
  },
  {
   "cell_type": "code",
   "execution_count": 105,
   "id": "8e89d5f7-0227-474a-a640-81c20f973fce",
   "metadata": {},
   "outputs": [
    {
     "data": {
      "image/png": "[encoded data removed]",
      "text/plain": [
       "<Figure size 640x480 with 1 Axes>"
      ]
     },
     "metadata": {},
     "output_type": "display_data"
    }
   ],
   "source": [
    "fig, ax = plt.subplots()\n",
    "ax.plot(detun, pop)\n",
    "\n",
    "ax.set(xlabel='Detuning', ylabel='Probability of up down state',\n",
    "       title=f'Variation of eigenvector with detuning for 2 molecules interacting with dipoles')\n",
    "ax.grid()\n",
    "\n",
    "plt.show()"
   ]
  },
  {
   "cell_type": "code",
   "execution_count": null,
   "id": "b8399614-be3a-49b6-8201-bd841a4dbf8f",
   "metadata": {},
   "outputs": [],
   "source": []
  }
 ],
 "metadata": {
  "kernelspec": {
   "display_name": "Python 3 (ipykernel)",
   "language": "python",
   "name": "python3"
  },
  "language_info": {
   "codemirror_mode": {
    "name": "ipython",
    "version": 3
   },
   "file_extension": ".py",
   "mimetype": "text/x-python",
   "name": "python",
   "nbconvert_exporter": "python",
   "pygments_lexer": "ipython3",
   "version": "3.12.4"
  }
 },
 "nbformat": 4,
 "nbformat_minor": 5
}
