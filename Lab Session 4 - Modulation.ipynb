{
 "cells": [
  {
   "cell_type": "markdown",
   "metadata": {},
   "source": [
    "### PHYS2641/3681 Laboratory Skills & Electronics\n",
    "\n",
    "# Electronics Laboratory Practical 4: Modulation\n",
    "\n",
    "\n",
    "\n",
    "### Jupyter Notebook Instructions\n",
    "\n",
    "\n",
    "**When you have downloaded this Notebook, you MUST**\n",
    "\n",
    "- **Click the button at the top right of the screen labelled 'Not Trusted', and select 'Trust'**\n",
    "\n",
    "- **Select 'Cell -> Run All' from the Jupyter menu bar**\n",
    "    \n",
    "**If you fail to do these the Notebook will not work.**\n",
    "\n",
    "\n",
    "The data that you enter into the Notebooks is saved within a '.pkl' ('pickle') file on the desktop of your computer. This is updated every time you enter data but ensure, at the end of the session, that you press the 'save' button at the bottom of the notebook at the end of the session to ensure all data/inputs are saved, then exit the notebook by using 'File -> Close and Halt' from the Jupyter menu bar.\n",
    "\n",
    "Your laboratory pairing can then each take a copy of the '.pkl' file from the desktop - which contains the data etc.that you have entered. You can re-load this data on your own computer by placing the '.pkl' file in the same directory as the downloaded copy of this Notebook - note that a new '.pkl' file  with any further changes will be saved to your desktop, and the original '.pkl' file that you loaded will not be altered.\n",
    "\n",
    "\n",
    "**Ensure that both students in your team have a working copy of the completed Jupyter Notebook contents, and any sketches or notes required. Any remaining datafiles will be deleted from the labs laptop at the end of the session.**\n",
    "\n",
    "\n",
    "### Laboratory Notebook Preperation\n",
    "\n",
    "Read through this script carefully in advance of the laboratory session. \n",
    "\n",
    "You will be recording the results of your experiments partly using the Jupyter Notebook, but you may also wish to take photographs of the circuits that you build, paper notes, sketches and rough work - so bring a notebook if you wish to do so. \n",
    "\n",
    "After completing each identified part of the session you should ensure that you fully understand the work that you have done, before moving on to the next part. Ask the staff member in your laboratory to verify the correct operation of your circuit if you are not absolutely certain of the expected behaviour.\n",
    "\n",
    "---\n",
    "---"
   ]
  },
  {
   "cell_type": "code",
   "execution_count": 1,
   "metadata": {
    "tags": [
     "hide_input"
    ]
   },
   "outputs": [
    {
     "data": {
      "text/html": [
       "<script>\n",
       "$.each(IPython.notebook.get_cells(), function(index, cell){\n",
       "    if (cell.cell_type !== 'code'){\n",
       "        $('div.cell').unbind('click');\n",
       "        $('div.cell').unbind('dblclick');\n",
       "    }  \n",
       "});\n",
       "</script>"
      ],
      "text/plain": [
       "<IPython.core.display.HTML object>"
      ]
     },
     "execution_count": 1,
     "metadata": {},
     "output_type": "execute_result"
    }
   ],
   "source": [
    "from IPython.display import HTML\n",
    "HTML('''<script>\n",
    "$.each(IPython.notebook.get_cells(), function(index, cell){\n",
    "    if (cell.cell_type !== 'code'){\n",
    "        $('div.cell').unbind('click');\n",
    "        $('div.cell').unbind('dblclick');\n",
    "    }  \n",
    "});\n",
    "</script>''')\n",
    "# Javascript code above unbinds click events for markdown cells to disable editing"
   ]
  },
  {
   "cell_type": "code",
   "execution_count": 2,
   "metadata": {},
   "outputs": [
    {
     "data": {
      "text/html": [
       "<script>$('div.input').hide()</script>"
      ],
      "text/plain": [
       "<IPython.core.display.HTML object>"
      ]
     },
     "execution_count": 2,
     "metadata": {},
     "output_type": "execute_result"
    }
   ],
   "source": [
    "# Local version needs to hide code as this cannot be done using the hide_input tags.\n",
    "from IPython.display import HTML\n",
    "HTML('''<script>$('div.input').hide()</script>''')"
   ]
  },
  {
   "cell_type": "code",
   "execution_count": 3,
   "metadata": {
    "tags": [
     "hide_input"
    ]
   },
   "outputs": [],
   "source": [
    "%matplotlib inline\n",
    "from ipywidgets import widgets, interact, interactive, fixed, Layout\n",
    "import IPython.display as dsply\n",
    "from IPython.display import clear_output\n",
    "import matplotlib.pyplot as pyplot\n",
    "import numpy"
   ]
  },
  {
   "cell_type": "code",
   "execution_count": 4,
   "metadata": {
    "tags": [
     "hide_input"
    ]
   },
   "outputs": [],
   "source": [
    "import warnings\n",
    "\n",
    "class dataset():\n",
    "    def __init__(self, parent, datastr, colheadings):\n",
    "        self.parent = parent\n",
    "        self.colheadings = colheadings\n",
    "        self.Data = datastr\n",
    "        \n",
    "        if self.colheadings == None:\n",
    "            print(colheadings)\n",
    "            self.colheadings = [r'$x$', r'$y$']\n",
    "        \n",
    "        self.LoadData()\n",
    "                    \n",
    "        # initialise the button for adding a line to the table \n",
    "        self.AddLineButton = widgets.Button(description='Add line to table')\n",
    "        self.AddLineButton.on_click(self.AddLineToTable)\n",
    "        # and removing one \n",
    "        self.RemoveLineButton = widgets.Button(description='Remove last line')\n",
    "        self.RemoveLineButton.on_click(self.RemoveLastLineFromTable)\n",
    "           \n",
    "        self.MakeTable()\n",
    " \n",
    "    def MakeTable(self):\n",
    "        # Creates table made of a grid of textboxes which only accept floats for entering Vin, Vout and R1 and R2 data\n",
    "        self.Cols = []\n",
    "        self.ColHs = []\n",
    "        # creates the table with headings \n",
    "        for j, col in enumerate(self.colheadings):\n",
    "            widgetlist=[widgets.FloatText(self.Data[i][j]) for i in range(self.DataPoints)]\n",
    "            for widget in widgetlist:\n",
    "                widget.observe(self.table_widget_on_change, names='value')\n",
    "            self.Cols.append(widgets.VBox(widgetlist))\n",
    "            self.ColHs.append(widgets.VBox([widgets.Label(value=self.colheadings[j]), self.Cols[j]]))           \n",
    "    \n",
    "        self.Table = widgets.HBox(self.ColHs)\n",
    "        \n",
    "        dsply.display(self.RemoveLineButton)\n",
    "        dsply.display(self.Table)\n",
    "        dsply.display(self.AddLineButton)\n",
    "        \n",
    "    def table_widget_on_change(self, change):\n",
    "        self.Save()\n",
    "    \n",
    "    def AddLineToTable(self, btn):\n",
    "        # function stores the data entered into the text boxes in the table then clears the table \n",
    "        for j in range(len(self.colheadings)):\n",
    "            for i in range(self.DataPoints):\n",
    "                self.Data[i][j] = self.Cols[j].children[i].value\n",
    "        \n",
    "        clear_output()#clear the Jupyter output\n",
    "        self.Table.close() # closes the current table \n",
    "        self.DataPoints += 1 #add one to datapoints\n",
    "        self.Data.append([0.0 for i in range(len(self.colheadings))])\n",
    "        self.MakeTable()\n",
    "                        \n",
    "    def RemoveLastLineFromTable(self, btn):\n",
    "        # function stores the data entered into the text boxes in the table then clears the table \n",
    "        clear_output()#clear the Jupyter output\n",
    "        self.Table.close() # closes the current table \n",
    "        if self.DataPoints > 2:\n",
    "            self.DataPoints -= 1 #subtract one to datapoints\n",
    "            del(self.Data[-1])       \n",
    "        self.MakeTable()\n",
    "         \n",
    "    def Save(self):\n",
    "        for j in range(len(self.colheadings)):\n",
    "            for i in range(self.DataPoints):\n",
    "                self.Cols[j].children[i].disabled=True\n",
    "                self.Data[i][j] = self.Cols[j].children[i].value               \n",
    "        self.parent.SaveData()\n",
    "        for j in range(len(self.colheadings)):\n",
    "            for i in range(self.DataPoints):\n",
    "                self.Cols[j].children[i].disabled=False          \n",
    "    \n",
    "    def LoadData(self):\n",
    "        if len(self.Data)==0:       #initial number of datapoints/rows in the table \n",
    "            self.DataPoints = 3   # initialise data list for storing the values from the table text boxes\n",
    "            for j in range(self.DataPoints):\n",
    "                self.Data.append([0.0 for i in range(len(self.colheadings))]) \n",
    "        else:\n",
    "            self.DataPoints = len(self.Data)\n",
    "            \n",
    "    \n",
    "\n",
    "\n",
    "\n",
    "class bodedataset(dataset):\n",
    "    def __init__(self, parent, datastr, colheadings):\n",
    "        self.VPrecBox = widgets.HBox([widgets.Label(value='Precision of V measurement (mV):'), widgets.FloatText(value=1.0)])\n",
    "        self.GenerateButton = widgets.Button(description='Generate Bode Plots')\n",
    "        self.GenerateButton.on_click(self.PlotData)  \n",
    "        \n",
    "        super().__init__(parent, datastr, colheadings)\n",
    "        \n",
    "        clear_output()#clear the Jupyter output\n",
    "        self.Table.close() # closes the current table         \n",
    "        self.VPrecText = widgets.FloatText(value=self.VPrecision)\n",
    "        self.VPrecBox = widgets.HBox([widgets.Label(value='Precision of V measurement (mV):'), self.VPrecText])\n",
    "        #bind widget change to save data\n",
    "        self.VPrecText.observe(self.prec_widget_on_change, names='value')\n",
    "\n",
    "        self.MakeTable()\n",
    "        \n",
    "    def prec_widget_on_change(self, change):\n",
    "        self.Save()\n",
    "    \n",
    "    def LoadData(self):\n",
    "        if len(self.Data)==0:       #initial number of datapoints/rows in the table \n",
    "            self.DataPoints = 4   # initialise data list for storing the values from the table text boxes\n",
    "            for j in range(self.DataPoints+1):\n",
    "                self.Data.append([0.0 for i in range(len(self.colheadings))]) \n",
    "            #self.VPrecision = 0.0\n",
    "        #else:\n",
    "        self.VPrecision = self.Data[-1][0]\n",
    "        self.DataPoints = len(self.Data)-1\n",
    "        \n",
    "        self.Frequency = numpy.array([self.Data[i][0] for i in range(self.DataPoints)])\n",
    "        self.FrequencyErr = numpy.array([self.Data[i][1] for i in range(self.DataPoints)])\n",
    "        self.Gain = numpy.array([0.0 for i in range(self.DataPoints)])\n",
    "        self.GainErr = numpy.array([0.0 for i in range(self.DataPoints)])\n",
    "                \n",
    "    def Save(self):\n",
    "        self.VPrecision = self.VPrecText.value\n",
    "        self.Data[-1][0] = self.VPrecision\n",
    "        super().Save()\n",
    "        \n",
    "    def AddLineToTable(self, btn):\n",
    "        # function stores the data entered into the text boxes in the table then clears the table \n",
    "        for j in range(len(self.colheadings)):\n",
    "            for i in range(self.DataPoints):\n",
    "                self.Data[i][j] = self.Cols[j].children[i].value\n",
    "        \n",
    "        clear_output()#clear the Jupyter output\n",
    "        self.Table.close() # closes the current table \n",
    "        self.DataPoints += 1 #add one to datapoints\n",
    "        self.Data.append([0.0 for i in range(len(self.colheadings))])\n",
    "        self.Data[-1][0] = self.VPrecision\n",
    "        self.Data[-2][0] = 0.0\n",
    "        self.MakeTable()\n",
    "        \n",
    "    def RemoveLastLineFromTable(self, btn):\n",
    "        # function stores the data entered into the text boxes in the table then clears the table \n",
    "        clear_output()#clear the Jupyter output\n",
    "        self.Table.close() # closes the current table \n",
    "        if self.DataPoints > 2:\n",
    "            self.DataPoints -= 1 #subtract one to datapoints\n",
    "            del(self.Data[-1])\n",
    "        self.Data[-1] = [0.0 for i in range(len(self.colheadings))]\n",
    "        self.Data[-1][0] = self.VPrecision\n",
    "        self.MakeTable()\n",
    "        \n",
    "    def MakeTable(self):\n",
    "        super().MakeTable()\n",
    "        dsply.display(self.VPrecBox)\n",
    "                \n",
    "    def PlotButton(self):\n",
    "        dsply.display(self.GenerateButton)\n",
    "        \n",
    "    def PlotData(self, btn):        \n",
    "        clear_output()\n",
    "        dsply.display(self.GenerateButton)\n",
    "        \n",
    "        self.Frequency = numpy.array([self.Data[i][0] for i in range(self.DataPoints)])\n",
    "        self.FrequencyErr = numpy.array([self.Data[i][1] for i in range(self.DataPoints)])\n",
    "        VinData = numpy.array([self.Data[i][2] for i in range(self.DataPoints)])\n",
    "        VoutData = numpy.array([self.Data[i][3] for i in range(self.DataPoints)])\n",
    "        #TSData = numpy.array([self.Data[i][4] for i in range(self.DataPoints)])\n",
    "        #TEData = numpy.array([self.Data[i][5] for i in range(self.DataPoints)])\n",
    "        \n",
    "        #calculate gain and phase and their errors\n",
    "        with warnings.catch_warnings():#This prevents divide by zero warnings showing when calculating phase error\n",
    "            warnings.simplefilter(\"ignore\")\n",
    "            self.Gain = 20*numpy.log10((VoutData/VinData))\n",
    "            #self.Phase = TSData*0.000001*360*self.Frequency\n",
    "            #self.GainErr = self.Gain*((self.VPrecision/VinData)**2+(self.VPrecision/VoutData)**2)**0.5\n",
    "            self.GainErr = 20*(((self.VPrecision/VinData)**2+(self.VPrecision/VoutData)**2)**0.5)/(numpy.log(10)*(VoutData/VinData))\n",
    "            #dB_gain_err = 20*Voltage_gain_err/(numpy.log(10)*Voltage_gain) # See inside front cover of Hughes & Hase! \n",
    "            #self.PhaseErr = self.Phase*((self.FrequencyErr/self.Frequency)**2+(TEData/TSData)**2)**0.5\n",
    "        \n",
    "    \n",
    "        #plot the bode plots with error bars and log scales for the frequency axis \n",
    "        pyplot.figure(figsize = (10,10))\n",
    "        pyplot.subplot(211)\n",
    "        pyplot.xscale('log')#, basex=10)  \n",
    "        pyplot.errorbar(self.Frequency, self.Gain, self.GainErr, ecolor = \"blue\", color = \"blue\", marker=\"x\", linestyle=\"none\")\n",
    "        pyplot.title(\"Gain Bode Plot\")\n",
    "        pyplot.xlabel(\"Frequency (Hz)\")\n",
    "        pyplot.ylabel(\"Gain (dB)\")\n",
    "\n",
    "        #pyplot.subplot(212)\n",
    "        #pyplot.xscale('log', basex=10)\n",
    "        #pyplot.errorbar(self.Frequency, self.Phase, self.PhaseErr, ecolor = \"blue\", color = \"blue\", marker=\"x\", linestyle=\"none\")\n",
    "        #pyplot.title(\"Phase Shift Bode Plot\")\n",
    "        #pyplot.xlabel(\"Frequency (Hz)\")\n",
    "        #pyplot.ylabel(\"Phase Shift (°)\")     \n",
    "        \n",
    "        self.DataPrintButton = widgets.Button(description='Print gain data', layout=Layout(width='200px'))\n",
    "        self.DataPrintButton.on_click(self.PrintData)\n",
    "        dsply.display(self.DataPrintButton)\n",
    "        \n",
    "    def PrintData(self, btn):\n",
    "        # prints the gain and phase data for inspection \n",
    "        print('Frequency data (Hz):', repr(self.Frequency))\n",
    "        print('Frequency error data (Hz):', repr(self.FrequencyErr))\n",
    "        print('Gain data (dB):', repr(self.Gain))\n",
    "        print('Gain error data (dB):', repr(self.GainErr))\n",
    "        #print('Phase-shift data (°):', repr(self.Phase))\n",
    "        #print('Phase-shift error data (°):', repr(self.PhaseErr))\n",
    "        \n",
    "\n",
    "           "
   ]
  },
  {
   "cell_type": "code",
   "execution_count": 5,
   "metadata": {
    "tags": [
     "hide_input"
    ]
   },
   "outputs": [],
   "source": [
    "#Waveform tool\n",
    "class waveform():\n",
    "    def __init__(self, parent, datastr):\n",
    "        self.parent=parent\n",
    "        self.Data=datastr\n",
    "        self.widgets=[]\n",
    "        \n",
    "        if len(self.Data)==0:\n",
    "            self.Data.extend(['Not Answered', #waveform\n",
    "                              0.0, #Freq\n",
    "                              0.0, #Ampl\n",
    "                              0.0, #Offs\n",
    "                              1.0, #t_range\n",
    "                              1.0])#V_range\n",
    "    \n",
    "    \n",
    "        #initialise the textboxes, buttons and sliders making up the user interface \n",
    "        self.widgets.append(widgets.RadioButtons(options=['Sine', 'Square', 'Triangle', 'Sawtooth', 'Not Answered'],\n",
    "                                                   value=self.Data[0], layout=Layout(height='80px')))\n",
    "        self.WButtonBox = widgets.HBox([widgets.Label(value='Type of Waveform:'), self.widgets[0]])\n",
    "\n",
    "        self.widgets.append(widgets.FloatText(value=self.Data[1]))\n",
    "        self.WFLayout = widgets.HBox([widgets.Label(value='Frequency (kHz):'), self.widgets[1]])\n",
    "\n",
    "        self.widgets.append(widgets.FloatText(value=self.Data[2]))\n",
    "        self.WALayout = widgets.HBox([widgets.Label(value='Amplitude (V):'), self.widgets[2]])\n",
    "\n",
    "        self.widgets.append(widgets.FloatText(value=self.Data[3]))\n",
    "        self.OBLayout = widgets.HBox([widgets.Label(value='DC Offset (V):'), self.widgets[3]])\n",
    "                           \n",
    "        self.widgets.append(widgets.FloatSlider(value=self.Data[4], max=20.0))\n",
    "        self.AxisLay = widgets.HBox([widgets.Label(value='Time range (ms):'), self.widgets[4]])\n",
    "\n",
    "        self.widgets.append(widgets.FloatSlider(value=self.Data[5], max=30.0))\n",
    "        self.YAxisLay = widgets.HBox([widgets.Label(value='Voltage range (V):'), self.widgets[5]])\n",
    "\n",
    "        # displays user interface elements \n",
    "        dsply.display(widgets.VBox([self.WButtonBox, self.WFLayout, self.WALayout, self.OBLayout, self.AxisLay, self.YAxisLay]))\n",
    "    \n",
    "    \n",
    "    def WaveGenButton(self):\n",
    "        # displays the wave generator button\n",
    "        self.WaveGenButton = widgets.Button(description='Generate Waveform')\n",
    "        self.WaveGenButton.on_click(self.WaveGen)\n",
    "        dsply.display(self.WaveGenButton)\n",
    "    \n",
    "    \n",
    "    def WaveGen(self, btn):    \n",
    "        # Function which saves the data and generates the waveforms to be displayed\n",
    "        \n",
    "        clear_output()\n",
    "        dsply.display(self.WaveGenButton)\n",
    "        \n",
    "        # defines x axis range based on the value chosen on the slider by the user \n",
    "        SampleRate = 44100 \n",
    "        RunTime = self.widgets[4].value #self.AxisSlider.value \n",
    "        NSamples = int(SampleRate * RunTime)\n",
    "        timebase = numpy.linspace(-1*RunTime, RunTime, NSamples)\n",
    "    \n",
    "        # error catching if no frequency or amplitude is input \n",
    "        if self.widgets[1].value == 0 or self.widgets[2].value == 0:\n",
    "            print('Please enter a non-zero value for frequency and amplitude')\n",
    "            return\n",
    "\n",
    "        # saves data from text boxes, and converts freq to period etc.\n",
    "        for i in range(len(self.widgets)):\n",
    "            self.Data[i] = self.widgets[i].value\n",
    "        self.parent.SaveData()\n",
    "        \n",
    "        Frequency = self.widgets[1].value\n",
    "        Period = 1.0/Frequency\n",
    "        Amp = self.widgets[2].value\n",
    "        Offset = self.widgets[3].value\n",
    "\n",
    "        V = numpy.zeros(NSamples)  # initialise y data array \n",
    "\n",
    "        # calculates V function based on data waveform chosen on the radio buttons, with error catching for no data being chosen \n",
    "        if self.widgets[0].value == 'Sine': \n",
    "            V = Amp*numpy.sin(2*numpy.pi*Frequency*timebase)\n",
    "        elif self.widgets[0].value == 'Square':\n",
    "            V = numpy.sin(2*numpy.pi*Frequency*timebase)\n",
    "            V = Amp*numpy.sign(V)\n",
    "        elif self.widgets[0].value == 'Triangle':\n",
    "            V =((2*Amp)/numpy.pi)*numpy.arcsin(numpy.sin((2*numpy.pi*timebase/Period)))\n",
    "        elif self.widgets[0].value == 'Sawtooth':\n",
    "            V =-1*((2*Amp)/numpy.pi)*numpy.arctan(1/numpy.tan((numpy.pi*timebase/Period)))\n",
    "        elif self.widgets[0].value == 'Not Answered':\n",
    "            print('No waveform type selected:(')\n",
    "            return\n",
    "        else:\n",
    "            print('No waveform type selected :(')\n",
    "            return\n",
    "\n",
    "        V = V + Offset # adds the DC offset to the waveform \n",
    "\n",
    "        Baseline = numpy.zeros(NSamples) # array used to plot a baseline to make visualising the waveform easier on the eye \n",
    "\n",
    "        # plots waveform using matplotlib.pyplot, defining y axis range based on the slider value \n",
    "        pyplot.plot(timebase,V)\n",
    "        pyplot.plot(timebase, Baseline, linestyle = 'dashed', color = 'gray')\n",
    "        pyplot.xlim(xmin=(-1*self.widgets[4].value), xmax=self.widgets[4].value)\n",
    "\n",
    "        pyplot.xlabel(\"Timebase (ms)\")\n",
    "        pyplot.ylabel(\"Amplitude (V)\")\n",
    "        pyplot.ylim(ymin=(-1*self.widgets[5].value), ymax=self.widgets[5].value)\n",
    "\n",
    "   "
   ]
  },
  {
   "cell_type": "code",
   "execution_count": 6,
   "metadata": {
    "tags": [
     "hide_input"
    ]
   },
   "outputs": [],
   "source": [
    "import pickle\n",
    "import os\n",
    "from pathlib import Path\n",
    "\n",
    "class dataclass():\n",
    "    pass\n",
    "\n",
    "class Electronics_session4():\n",
    "    def __init__(self, file):\n",
    "        self.file = str(Path.home() / 'Desktop' / file) # in desktop\n",
    "        self.tempfile = '{}.tmp'.format(file)           # in current working directory\n",
    "        self.widgets=[]\n",
    "                \n",
    "        self.SaveButton = widgets.Button(description='Save all data')\n",
    "        self.SaveButton.on_click(self.Save_pressed)  \n",
    "         \n",
    "        try: #Load in the data if it is there - this allows data persistence between students/runs of the notebook.         \n",
    "             # first look in current directory:\n",
    "            with open(str(Path(self.file).name), 'rb') as infile:\n",
    "                self.datastructure = pickle.load(infile)\n",
    "                loaded = True      \n",
    "        except OSError: \n",
    "            loaded = False\n",
    "                \n",
    "        if not loaded:\n",
    "            try: # now look on Desktop\n",
    "                with open(self.file, 'rb') as infile:\n",
    "                    self.datastructure = pickle.load(infile)\n",
    "                    \n",
    "            except OSError: # default data \n",
    "                self.datastructure = dataclass()\n",
    "                self.datastructure.wfmdata1 = []\n",
    "                self.datastructure.wfmdata2 = []\n",
    "                self.datastructure.lpdata1 = []\n",
    "\n",
    "                self.datastructure.widgetvals = ['Explain the form of the output signal:',\n",
    "                                                 'Explain the form of the output signal:',\n",
    "                                                 'Explain the form of the output signal:',\n",
    "                                                 'Explain the form of the output signal:',\n",
    "                                                 'Explain the influence of the DC voltage on the comparator output:',\n",
    "                                                 'Describe and explain the observed output:',\n",
    "                                                 'State and justify corner frequency value:',\n",
    "                                                 'Describe and explain the demodulated signal obtained:',\n",
    "                                                 'Explain what happens if the modulation frequency is too low:',\n",
    "                                                 'Explain the behaviour of the LED that you see:']\n",
    "\n",
    "        #Write saved or default value to widgets:\n",
    "        self.widgets.append(widgets.Textarea(value=self.datastructure.widgetvals[0], continuous_update=False, layout=Layout(width = '600px', height = '100px')))\n",
    "        self.widgets.append(widgets.Textarea(value=self.datastructure.widgetvals[1], continuous_update=False, layout=Layout(width = '600px', height = '100px')))\n",
    "        self.widgets.append(widgets.Textarea(value=self.datastructure.widgetvals[2], continuous_update=False, layout=Layout(width = '600px', height = '100px')))\n",
    "        self.widgets.append(widgets.Textarea(value=self.datastructure.widgetvals[3], continuous_update=False, layout=Layout(width = '600px', height = '100px')))\n",
    "        self.widgets.append(widgets.Textarea(value=self.datastructure.widgetvals[4], continuous_update=False, layout=Layout(width = '600px', height = '100px')))\n",
    "        self.widgets.append(widgets.Textarea(value=self.datastructure.widgetvals[5], continuous_update=False, layout=Layout(width = '600px', height = '100px')))\n",
    "        self.widgets.append(widgets.Textarea(value=self.datastructure.widgetvals[6], continuous_update=False, layout=Layout(width = '600px', height = '100px')))\n",
    "        self.widgets.append(widgets.Textarea(value=self.datastructure.widgetvals[7], continuous_update=False, layout=Layout(width = '600px', height = '100px')))\n",
    "        self.widgets.append(widgets.Textarea(value=self.datastructure.widgetvals[8], continuous_update=False, layout=Layout(width = '600px', height = '100px')))\n",
    "        self.widgets.append(widgets.Textarea(value=self.datastructure.widgetvals[9], continuous_update=False, layout=Layout(width = '600px', height = '100px')))\n",
    "        \n",
    "        for widget in self.widgets:\n",
    "           widget.observe(self.widget_on_change, names='value')\n",
    "        \n",
    "        self.SaveData()\n",
    "        \n",
    "    def widget_on_change(self, change): #when widget values change (lose focus), write to file\n",
    "        self.SaveData()\n",
    "            \n",
    "    def SaveData(self): \n",
    "        self.datastructure.widgetvals = [widget.value for widget in self.widgets]\n",
    "        try:\n",
    "            os.replace(self.file, self.tempfile)\n",
    "        except FileNotFoundError: #after initial startup\n",
    "            pass\n",
    "        with open(self.file, 'wb') as outfile:\n",
    "            pickle.dump(self.datastructure, outfile, pickle.HIGHEST_PROTOCOL)\n",
    "            outfile.flush()\n",
    "            os.fsync(outfile.fileno())\n",
    "    \n",
    "    def Save_show(self):\n",
    "        dsply.display(self.SaveButton)\n",
    "    \n",
    "    def Save_pressed(self, btn):\n",
    "        self.SaveData()\n",
    "        \n",
    "ans = Electronics_session4('Electronics_labs4.pkl')  "
   ]
  },
  {
   "cell_type": "markdown",
   "metadata": {
    "tags": [
     "hide_input"
    ]
   },
   "source": [
    "## Introduction\n",
    "\n",
    "\n",
    "### Overview\n",
    "\n",
    "\n",
    "You will investigate ways in which a voltage signal may be modulated. Each task requires two signals as inputs, in most cases one is generated by your function generator, the other is distributed around the lab and is available via a pair of wires at your workstation. The signal for experiments 1 will be available for the first hour, and the signal for experiments 2 and 3 is available thereafter. You will encounter low frequency (< 1Hz) signals; when displaying these the oscilloscope behaves somewhat differently to what you have seen previously, showing a 'rolling' display. You should ensure that you familiarise yourself with this display mode. Note that it is necessary to use the 'run/stop' button (upper right of the oscilloscope control panel) to freeze the display before using the measurement cursors in 'rolling' display mode as there is no trigger functionality.\n",
    "\n",
    "The aims of this session are to gain experience of modulating and demodulating signals; to introduce the distributed signal, 'multiplier' PCB, and 'rolling' display mode of the oscilloscope; and to consolidate and refresh the experience with op-amps and low-pass filters from previous sessions. \n",
    "\n",
    "\n",
    "\n",
    "### Printed Circuit Boards\n",
    "\n",
    "\n",
    "\n",
    "This week you are introduced to a new **multiplier** PCB, which is used in experiment 1. You do not need to understand the details of how this PCB operates. As with the amplifier and phase-shifter PCBs, the multiplier PCB requires a power supply in order to function: Connect the $-15V$, $0V$ and $+15V$ terminals of your PCBs to the $-V$, $0V$ and $+V$ outputs of your dual-rail power supply. \n",
    "\n",
    "\n",
    "The multiplier takes two inputs ($V_{in1}$, $V_{in2}$), and provides an ouput ($V_{out}$). Within practical limits (what are these likely to be?) the output is given by $V_{out} = V_{in1} \\times V_{in2}$. \n",
    "\n",
    "You will also make use of the amplifier PCB, configured as a simple comparator as introduced in weeks 2 & 3, and the passive filter PCB introduced in week 1.\n",
    "\n",
    "This session introduces the multiplier PCB and distributed signals, and recaps usage of the amplifier PCB and low-pass filters.\n",
    "\n",
    "\n",
    "\n",
    "## Experiments\n",
    "\n",
    "For the later parts of experiment 1 you will use a common signal distributed from the front of the lab. This is a 100 Hz sine-wave, but this signal will be replaced by a low-frequency signal for experiments 2 & 3 after the first hour of the lab session.\n",
    "\n",
    "\n",
    "\n",
    "### Experiment 1 - Amplitude Modulation\n",
    "\n",
    "\n",
    "\n",
    "**Amplitude Modulation** is the process whereby a signal is modulated onto a carrier wave by multiplying the two waveforms together, such that the amplitude of the carrier is multiplied by the amplitude of the signal at any instant in time. \n",
    "\n",
    "Connect a 1 kHz sine-wave from your signal-generator, your **'carrier wave'**, to input $V_{in1}$ of the multiplier PCB. \n",
    "You will need to set the DC-offset of the signal-generator output to be as close to zero as possible (why?).\n",
    "\n",
    "\n",
    "### Tasks:\n",
    "\n",
    "\n",
    "Connect each of the following signals to the $V_{in2}$ input, then observe and explain $V_{out}$ for:\n",
    "\n",
    "\n",
    "- Various different DC voltages"
   ]
  },
  {
   "cell_type": "code",
   "execution_count": 7,
   "metadata": {
    "tags": [
     "hide_input"
    ]
   },
   "outputs": [
    {
     "data": {
      "application/vnd.jupyter.widget-view+json": {
       "model_id": "eef4229ae33542a3be3fd84ef9a32d89",
       "version_major": 2,
       "version_minor": 0
      },
      "text/plain": [
       "Textarea(value='Explain the form of the output signal:', continuous_update=False, layout=Layout(height='100px'…"
      ]
     },
     "metadata": {},
     "output_type": "display_data"
    }
   ],
   "source": [
    "# create and display text box for inputting answer\n",
    "#widgets.Textarea(placeholder='Explain the output waveform:', layout=Layout(width = '600px', height = '100px'))\n",
    "dsply.display(ans.widgets[0])"
   ]
  },
  {
   "cell_type": "markdown",
   "metadata": {},
   "source": [
    "- The 1 kHz sine wave from your signal generator (i.e. feed the same signal into both inputs of the multiplier). Reproduce the output using the waveform tool below; identify and explain its mathematical form"
   ]
  },
  {
   "cell_type": "code",
   "execution_count": 8,
   "metadata": {
    "tags": [
     "hide_input"
    ]
   },
   "outputs": [
    {
     "data": {
      "application/vnd.jupyter.widget-view+json": {
       "model_id": "c70e0d4a17784ed1984678e0cbebe55c",
       "version_major": 2,
       "version_minor": 0
      },
      "text/plain": [
       "VBox(children=(HBox(children=(Label(value='Type of Waveform:'), RadioButtons(index=4, layout=Layout(height='80…"
      ]
     },
     "metadata": {},
     "output_type": "display_data"
    }
   ],
   "source": [
    "wfm1 = waveform(ans, ans.datastructure.wfmdata1)"
   ]
  },
  {
   "cell_type": "code",
   "execution_count": 9,
   "metadata": {
    "tags": [
     "hide_input"
    ]
   },
   "outputs": [
    {
     "data": {
      "application/vnd.jupyter.widget-view+json": {
       "model_id": "17f2a373d0d2429984f7d5a02c8d67ec",
       "version_major": 2,
       "version_minor": 0
      },
      "text/plain": [
       "Button(description='Generate Waveform', style=ButtonStyle())"
      ]
     },
     "metadata": {},
     "output_type": "display_data"
    }
   ],
   "source": [
    "wfm1.WaveGenButton()"
   ]
  },
  {
   "cell_type": "markdown",
   "metadata": {},
   "source": [
    "Describe and explain the mathematical form of the signal:"
   ]
  },
  {
   "cell_type": "code",
   "execution_count": 10,
   "metadata": {
    "tags": [
     "hide_input"
    ]
   },
   "outputs": [
    {
     "data": {
      "application/vnd.jupyter.widget-view+json": {
       "model_id": "1fdb699f215c4c7a8d56440999c3e244",
       "version_major": 2,
       "version_minor": 0
      },
      "text/plain": [
       "Textarea(value='Explain the form of the output signal:', continuous_update=False, layout=Layout(height='100px'…"
      ]
     },
     "metadata": {},
     "output_type": "display_data"
    }
   ],
   "source": [
    "# create and display text box for inputting answer\n",
    "#widgets.Textarea(placeholder='Explain the output waveform:', layout=Layout(width = '600px', height = '100px'))\n",
    "dsply.display(ans.widgets[1])"
   ]
  },
  {
   "cell_type": "markdown",
   "metadata": {},
   "source": [
    "- The 100 Hz waveform distributed throughout the lab. Reproduce and explain the output"
   ]
  },
  {
   "cell_type": "code",
   "execution_count": 11,
   "metadata": {
    "tags": [
     "hide_input"
    ]
   },
   "outputs": [
    {
     "data": {
      "application/vnd.jupyter.widget-view+json": {
       "model_id": "304f2e6d329242b186587a9e99ac9adf",
       "version_major": 2,
       "version_minor": 0
      },
      "text/plain": [
       "VBox(children=(HBox(children=(Label(value='Type of Waveform:'), RadioButtons(index=4, layout=Layout(height='80…"
      ]
     },
     "metadata": {},
     "output_type": "display_data"
    }
   ],
   "source": [
    "wfm2 = waveform(ans, ans.datastructure.wfmdata2)"
   ]
  },
  {
   "cell_type": "code",
   "execution_count": 12,
   "metadata": {
    "tags": [
     "hide_input"
    ]
   },
   "outputs": [
    {
     "data": {
      "application/vnd.jupyter.widget-view+json": {
       "model_id": "b4a370e82bf44afcb6e06045f8eb6e74",
       "version_major": 2,
       "version_minor": 0
      },
      "text/plain": [
       "Button(description='Generate Waveform', style=ButtonStyle())"
      ]
     },
     "metadata": {},
     "output_type": "display_data"
    }
   ],
   "source": [
    "wfm2.WaveGenButton()"
   ]
  },
  {
   "cell_type": "markdown",
   "metadata": {},
   "source": [
    "Describe and explain the mathematical form of the signal:"
   ]
  },
  {
   "cell_type": "code",
   "execution_count": 13,
   "metadata": {
    "tags": [
     "hide_input"
    ]
   },
   "outputs": [
    {
     "data": {
      "application/vnd.jupyter.widget-view+json": {
       "model_id": "d9e09a8b19d84dde95e43d01081dcc12",
       "version_major": 2,
       "version_minor": 0
      },
      "text/plain": [
       "Textarea(value='Explain the form of the output signal:', continuous_update=False, layout=Layout(height='100px'…"
      ]
     },
     "metadata": {},
     "output_type": "display_data"
    }
   ],
   "source": [
    "# create and display text box for inputting answer\n",
    "#widgets.Textarea(placeholder='Explain the output waveform:', layout=Layout(width = '600px', height = '100px'))\n",
    "dsply.display(ans.widgets[2])"
   ]
  },
  {
   "cell_type": "markdown",
   "metadata": {},
   "source": [
    "- What happens as you decrease the frequency of your carrier wave towards that of the signal?"
   ]
  },
  {
   "cell_type": "code",
   "execution_count": 14,
   "metadata": {
    "tags": [
     "hide_input"
    ]
   },
   "outputs": [
    {
     "data": {
      "application/vnd.jupyter.widget-view+json": {
       "model_id": "40031d7f0341486b9f0b5178cc6704b2",
       "version_major": 2,
       "version_minor": 0
      },
      "text/plain": [
       "Textarea(value='Explain the form of the output signal:', continuous_update=False, layout=Layout(height='100px'…"
      ]
     },
     "metadata": {},
     "output_type": "display_data"
    }
   ],
   "source": [
    "# create and display text box for inputting answer\n",
    "#widgets.Textarea(placeholder='Explain the output waveform:', layout=Layout(width = '600px', height = '100px'))\n",
    "dsply.display(ans.widgets[3])"
   ]
  },
  {
   "cell_type": "markdown",
   "metadata": {},
   "source": [
    "At the end of this experiment you can disconnect the multiplier PCB as you will not need to use it again during this session. If you complete this experiment early, ask your demonstrator who may be able to provide you with a second signal generator to provide a 1 Hz sine-wave signal.\n",
    "\n",
    "\n",
    "\n",
    "### Experiment 2 - Pulse Width Modulation\n",
    "\n",
    "\n",
    "**Pulse Width Modulation** (PWM) is a simple modulation technique in which the mark-to-space ratio of a constant frequency two-level 'pulse-wave' is varied, changing the fraction of each cycle for which it is 'high' and 'low'. PWM is perhaps the simplest way in which a signal may be modulated, and has many uses; for example, in controlling the time-averaged power applied to devices such as motors and light sources. \n",
    "\n",
    "\n",
    "In this experiment you will produce a waveform with variable pulse-width. To achieve this, configure your signal generator to produce a sawtooth (triangular) waveform at the desired modulation frequency. You will again need to set the DC-offset of the signal-generator output to be as close to zero as possible (why?). \n",
    "\n",
    "Connect this sawtooth waveform to the inverting input to an op-amp configured as a **simple comparator** (no feedback components!). Apply a DC signal to the non-inverting input on your op-amp (what would happen if you switch the two inputs around?). A modulation frequency of around 1 kHz should work well for this experiment.\n",
    "\n",
    "\n",
    "### Tasks:\n",
    "\n",
    "- In your lab book, sketch the input (sawtooth) and output waveforms for several DC voltages.\n",
    "\n",
    "\n",
    "- Explain the observed waveforms."
   ]
  },
  {
   "cell_type": "code",
   "execution_count": 15,
   "metadata": {
    "tags": [
     "hide_input"
    ]
   },
   "outputs": [
    {
     "data": {
      "application/vnd.jupyter.widget-view+json": {
       "model_id": "3c8d77c941154d9e877435aab6e28030",
       "version_major": 2,
       "version_minor": 0
      },
      "text/plain": [
       "Textarea(value='Explain the influence of the DC voltage on the comparator output:', continuous_update=False, l…"
      ]
     },
     "metadata": {},
     "output_type": "display_data"
    }
   ],
   "source": [
    "# create and display text box for inputting answer\n",
    "#widgets.Textarea(placeholder='Explain the output waveform:', layout=Layout(width = '600px', height = '100px'))\n",
    "dsply.display(ans.widgets[4])"
   ]
  },
  {
   "cell_type": "markdown",
   "metadata": {},
   "source": [
    "- In your lab book, sketch the low-frequency sine-wave signal distributed to your workstation. Annotate the sketch with signal parameters. You will need to use the 'Rolling' display mode on your oscilloscope and the 'run/stop' button to freeze the rolling display. It is important to ensure that you understand these - ask a demonstrator to explain if you don't understand.\n",
    "\n",
    "\n",
    "- Apply the distributed low-frequency sine-wave at your circuit input in place of a DC signal.\n",
    "\n",
    "\n",
    "- Describe and explain the observed output of the circuit below, and sketch it in your lab book."
   ]
  },
  {
   "cell_type": "code",
   "execution_count": 16,
   "metadata": {
    "tags": [
     "hide_input"
    ]
   },
   "outputs": [
    {
     "data": {
      "application/vnd.jupyter.widget-view+json": {
       "model_id": "781d16d40c8640adb4d54931c5feb371",
       "version_major": 2,
       "version_minor": 0
      },
      "text/plain": [
       "Textarea(value='Describe and explain the observed output:', continuous_update=False, layout=Layout(height='100…"
      ]
     },
     "metadata": {},
     "output_type": "display_data"
    }
   ],
   "source": [
    "# create and display text box for inputting answer\n",
    "#widgets.Textarea(placeholder='Explain the output waveform:', layout=Layout(width = '600px', height = '100px'))\n",
    "dsply.display(ans.widgets[5])"
   ]
  },
  {
   "cell_type": "markdown",
   "metadata": {},
   "source": [
    "You may wish to use the python file ``scope.py`` to capture images of this signal. Open an ``Anaconda command prompt`` and run this program (``python scope.py``).\n",
    "\n",
    "\n",
    "\n",
    "Do **NOT** dismantle your working circuit - you will need it again shortly!\n",
    "\n",
    "\n",
    "\n",
    "### Experiment 3 - Demodulation\n",
    "\n",
    "\n",
    "The result of experiment 2 is that the low-frequency, continously-varying, input signal has been converted into a two-level pulse-width-modulated signal. You will now build an additional circuit to recover the original analogue signal from the PWM signal.\n",
    "\n",
    "\n",
    "To recover the low-frequency signal, we need to filter the pulse train that is output from your comparator such that the average value encoded in the mark-to-space ratio is recovered whilst the high-frequency component, due to the pulses themselves, is rejected.\n",
    "\n",
    "\n",
    "\n",
    "### Tasks:\n",
    "\n",
    "\n",
    "- Specify a suitable corner frequency for a $RC$ low-pass filter given the ~1 kHz modulation frequency which you are using, and the condition that $f_{sig}$ should be less than $f_{mod}/100$. State the value and justify it below:"
   ]
  },
  {
   "cell_type": "code",
   "execution_count": 17,
   "metadata": {
    "tags": [
     "hide_input"
    ]
   },
   "outputs": [
    {
     "data": {
      "application/vnd.jupyter.widget-view+json": {
       "model_id": "10f2b902f47544b6b7412cb703f0872f",
       "version_major": 2,
       "version_minor": 0
      },
      "text/plain": [
       "Textarea(value='State and justify corner frequency value:', continuous_update=False, layout=Layout(height='100…"
      ]
     },
     "metadata": {},
     "output_type": "display_data"
    }
   ],
   "source": [
    "# create and display text box for inputting answer\n",
    "#widgets.Textarea(placeholder='Explain the output waveform:', layout=Layout(width = '600px', height = '100px'))\n",
    "dsply.display(ans.widgets[6])"
   ]
  },
  {
   "cell_type": "markdown",
   "metadata": {},
   "source": [
    "- Construct the *RC* filter and experimentally verify the corner frequency: produce a Bode plot for the gain only (not phase shift)."
   ]
  },
  {
   "cell_type": "code",
   "execution_count": 18,
   "metadata": {
    "tags": [
     "hide_input"
    ]
   },
   "outputs": [
    {
     "data": {
      "application/vnd.jupyter.widget-view+json": {
       "model_id": "adb334b8c6fe45eaa11ba4d76c52b26f",
       "version_major": 2,
       "version_minor": 0
      },
      "text/plain": [
       "Button(description='Remove last line', style=ButtonStyle())"
      ]
     },
     "metadata": {},
     "output_type": "display_data"
    },
    {
     "data": {
      "application/vnd.jupyter.widget-view+json": {
       "model_id": "f9ad50465ac04c238464b4abd3d36b79",
       "version_major": 2,
       "version_minor": 0
      },
      "text/plain": [
       "HBox(children=(VBox(children=(Label(value='Frequency (Hz)'), VBox(children=(FloatText(value=0.0), FloatText(va…"
      ]
     },
     "metadata": {},
     "output_type": "display_data"
    },
    {
     "data": {
      "application/vnd.jupyter.widget-view+json": {
       "model_id": "7214442ca40641e49e69374d5669a9ca",
       "version_major": 2,
       "version_minor": 0
      },
      "text/plain": [
       "Button(description='Add line to table', style=ButtonStyle())"
      ]
     },
     "metadata": {},
     "output_type": "display_data"
    },
    {
     "data": {
      "application/vnd.jupyter.widget-view+json": {
       "model_id": "259cede636374c09af23549b94b5de25",
       "version_major": 2,
       "version_minor": 0
      },
      "text/plain": [
       "HBox(children=(Label(value='Precision of V measurement (mV):'), FloatText(value=0.0)))"
      ]
     },
     "metadata": {},
     "output_type": "display_data"
    }
   ],
   "source": [
    "lp1 = bodedataset(ans, ans.datastructure.lpdata1, ['Frequency (Hz)', 'Frequency Error (Hz)', r'$V_{in}$ (mV)', r'$V_{out}$ (mV)'])"
   ]
  },
  {
   "cell_type": "code",
   "execution_count": 19,
   "metadata": {
    "tags": [
     "hide_input"
    ]
   },
   "outputs": [
    {
     "data": {
      "application/vnd.jupyter.widget-view+json": {
       "model_id": "bfff68955aa2459c880048db081fc38a",
       "version_major": 2,
       "version_minor": 0
      },
      "text/plain": [
       "Button(description='Generate Bode Plots', style=ButtonStyle())"
      ]
     },
     "metadata": {},
     "output_type": "display_data"
    }
   ],
   "source": [
    "lp1.PlotButton()"
   ]
  },
  {
   "cell_type": "markdown",
   "metadata": {},
   "source": [
    "- Apply your filter to the ouput of the circuit constructed in experiment 2. Sketch the demodulated signal in your lab book, and describe and explain it below:"
   ]
  },
  {
   "cell_type": "code",
   "execution_count": 20,
   "metadata": {
    "tags": [
     "hide_input"
    ]
   },
   "outputs": [
    {
     "data": {
      "application/vnd.jupyter.widget-view+json": {
       "model_id": "9e9d6677a1fe4c69a0d0c6d77101ddee",
       "version_major": 2,
       "version_minor": 0
      },
      "text/plain": [
       "Textarea(value='Describe and explain the demodulated signal obtained:', continuous_update=False, layout=Layout…"
      ]
     },
     "metadata": {},
     "output_type": "display_data"
    }
   ],
   "source": [
    "dsply.display(ans.widgets[7])"
   ]
  },
  {
   "cell_type": "markdown",
   "metadata": {},
   "source": [
    "- What happens if you set your modulated frequency to be near, or below, the  corner frequency of the $RC$ filter?"
   ]
  },
  {
   "cell_type": "code",
   "execution_count": 21,
   "metadata": {
    "tags": [
     "hide_input"
    ]
   },
   "outputs": [
    {
     "data": {
      "application/vnd.jupyter.widget-view+json": {
       "model_id": "2532e08d09ea47388559eb95a5d2ff05",
       "version_major": 2,
       "version_minor": 0
      },
      "text/plain": [
       "Textarea(value='Explain what happens if the modulation frequency is too low:', continuous_update=False, layout…"
      ]
     },
     "metadata": {},
     "output_type": "display_data"
    }
   ],
   "source": [
    "dsply.display(ans.widgets[8])"
   ]
  },
  {
   "cell_type": "markdown",
   "metadata": {},
   "source": [
    "### Extra task: \n",
    "\n",
    "\n",
    "- Remove the low-pass filter from the output of the comparator.\n",
    "\n",
    "\n",
    "- Connect an LED between the comparator output and ground (on the terminal block).\n",
    "\n",
    "\n",
    "- What behaviour do you observe from the LED? Why do you 'see' this?\n"
   ]
  },
  {
   "cell_type": "code",
   "execution_count": 22,
   "metadata": {
    "tags": [
     "hide_input"
    ]
   },
   "outputs": [
    {
     "data": {
      "application/vnd.jupyter.widget-view+json": {
       "model_id": "1b05c98fbfd34b46a159b8053f4c3401",
       "version_major": 2,
       "version_minor": 0
      },
      "text/plain": [
       "Textarea(value='Explain the behaviour of the LED that you see:', continuous_update=False, layout=Layout(height…"
      ]
     },
     "metadata": {},
     "output_type": "display_data"
    }
   ],
   "source": [
    "dsply.display(ans.widgets[9])"
   ]
  },
  {
   "cell_type": "code",
   "execution_count": 23,
   "metadata": {
    "tags": [
     "hide_input"
    ]
   },
   "outputs": [
    {
     "data": {
      "application/vnd.jupyter.widget-view+json": {
       "model_id": "abbbc747baa44e619d3c90a8c06f303b",
       "version_major": 2,
       "version_minor": 0
      },
      "text/plain": [
       "Button(description='Save all data', style=ButtonStyle())"
      ]
     },
     "metadata": {},
     "output_type": "display_data"
    }
   ],
   "source": [
    "#A save button: pretty pointless as the data is saved when the widget above loses focus, but this at least ensures that that soes happen.\n",
    "ans.Save_show()"
   ]
  },
  {
   "cell_type": "markdown",
   "metadata": {},
   "source": [
    "Ensure that you press the 'save all data' button at the bottom of the notebook at the end of the session to ensure all data/inputs are saved, and exit the notebook by using 'File -> Close and Halt' from the Jupyter menu bar.\n",
    "\n",
    "\n",
    "**Ensure that both students in your team have a working copy of the completed Jupyter Notebook, the generated '.pkl' datafile, and any sketches or notes required.**"
   ]
  },
  {
   "cell_type": "code",
   "execution_count": 24,
   "metadata": {
    "tags": [
     "hide_input"
    ]
   },
   "outputs": [
    {
     "data": {
      "text/html": [
       "<script>\n",
       "  $(document).ready(function(){\n",
       "    $('div.prompt').hide();\n",
       "    $('div.back-to-top').hide();\n",
       "    $('nav#menubar').hide();\n",
       "    $('.breadcrumb').hide();\n",
       "    $('.hidden-print').hide();\n",
       "  });\n",
       "</script>"
      ],
      "text/plain": [
       "<IPython.core.display.HTML object>"
      ]
     },
     "execution_count": 24,
     "metadata": {},
     "output_type": "execute_result"
    }
   ],
   "source": [
    "# hides parts of the jupyter interface which the end user doesnt need to see and displays the page footer \n",
    "from IPython.display import HTML\n",
    "HTML('''<script>\n",
    "  $(document).ready(function(){\n",
    "    $('div.prompt').hide();\n",
    "    $('div.back-to-top').hide();\n",
    "    $('nav#menubar').hide();\n",
    "    $('.breadcrumb').hide();\n",
    "    $('.hidden-print').hide();\n",
    "  });\n",
    "</script>''')"
   ]
  }
 ],
 "metadata": {
  "kernelspec": {
   "display_name": "Python 3 (ipykernel)",
   "language": "python",
   "name": "python3"
  },
  "language_info": {
   "codemirror_mode": {
    "name": "ipython",
    "version": 3
   },
   "file_extension": ".py",
   "mimetype": "text/x-python",
   "name": "python",
   "nbconvert_exporter": "python",
   "pygments_lexer": "ipython3",
   "version": "3.9.13"
  },
  "toc": {
   "base_numbering": 1,
   "nav_menu": {},
   "number_sections": false,
   "sideBar": false,
   "skip_h1_title": false,
   "title_cell": "Table of Contents",
   "title_sidebar": "Contents",
   "toc_cell": false,
   "toc_position": {},
   "toc_section_display": false,
   "toc_window_display": false
  }
 },
 "nbformat": 4,
 "nbformat_minor": 2
}
